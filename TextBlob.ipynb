{
  "nbformat": 4,
  "nbformat_minor": 0,
  "metadata": {
    "colab": {
      "provenance": [],
      "authorship_tag": "ABX9TyNCerOA2E5zW0SwdPxyztOS",
      "include_colab_link": true
    },
    "kernelspec": {
      "name": "python3",
      "display_name": "Python 3"
    },
    "language_info": {
      "name": "python"
    }
  },
  "cells": [
    {
      "cell_type": "markdown",
      "metadata": {
        "id": "view-in-github",
        "colab_type": "text"
      },
      "source": [
        "<a href=\"https://colab.research.google.com/github/pratikesh3232/TextBlob_pracice/blob/main/TextBlob.ipynb\" target=\"_parent\"><img src=\"https://colab.research.google.com/assets/colab-badge.svg\" alt=\"Open In Colab\"/></a>"
      ]
    },
    {
      "cell_type": "code",
      "source": [
        "# !pip install -U textblob\n",
        "# !python -m textblob.download_corpora\n",
        "import nltk\n",
        "nltk.download('punkt_tab')\n",
        "nltk.download('averaged_perceptron_tagger_eng')\n",
        "\n",
        "import nltk\n",
        "nltk.download('punkt')"
      ],
      "metadata": {
        "colab": {
          "base_uri": "https://localhost:8080/"
        },
        "id": "QV1Ay-PjxXE5",
        "outputId": "810256ef-f315-41d9-8c06-a3ce20e741ba"
      },
      "execution_count": null,
      "outputs": [
        {
          "output_type": "stream",
          "name": "stderr",
          "text": [
            "[nltk_data] Downloading package punkt_tab to /root/nltk_data...\n",
            "[nltk_data]   Unzipping tokenizers/punkt_tab.zip.\n",
            "[nltk_data] Downloading package averaged_perceptron_tagger_eng to\n",
            "[nltk_data]     /root/nltk_data...\n",
            "[nltk_data]   Unzipping taggers/averaged_perceptron_tagger_eng.zip.\n",
            "[nltk_data] Downloading package punkt to /root/nltk_data...\n",
            "[nltk_data]   Unzipping tokenizers/punkt.zip.\n"
          ]
        },
        {
          "output_type": "execute_result",
          "data": {
            "text/plain": [
              "True"
            ]
          },
          "metadata": {},
          "execution_count": 5
        }
      ]
    },
    {
      "cell_type": "code",
      "execution_count": null,
      "metadata": {
        "id": "n8ZKcosLtlkF"
      },
      "outputs": [],
      "source": [
        "from textblob import TextBlob"
      ]
    },
    {
      "cell_type": "code",
      "source": [
        "wiki = TextBlob(\"Python is a high-level, general-purpose programming language.\")"
      ],
      "metadata": {
        "id": "eMt5sEPbvcRf"
      },
      "execution_count": null,
      "outputs": []
    },
    {
      "cell_type": "markdown",
      "source": [
        "### Part-of-speech Tagging"
      ],
      "metadata": {
        "id": "czyxBVDHwEZd"
      }
    },
    {
      "cell_type": "code",
      "source": [
        "wiki.tags"
      ],
      "metadata": {
        "colab": {
          "base_uri": "https://localhost:8080/"
        },
        "id": "uPHvdahzvsdz",
        "outputId": "4a89bc81-de43-4c00-e761-5cf5e7699a2f"
      },
      "execution_count": null,
      "outputs": [
        {
          "output_type": "execute_result",
          "data": {
            "text/plain": [
              "[('Python', 'NNP'),\n",
              " ('is', 'VBZ'),\n",
              " ('a', 'DT'),\n",
              " ('high-level', 'JJ'),\n",
              " ('general-purpose', 'JJ'),\n",
              " ('programming', 'NN'),\n",
              " ('language', 'NN')]"
            ]
          },
          "metadata": {},
          "execution_count": 9
        }
      ]
    },
    {
      "cell_type": "markdown",
      "source": [
        "### Noun Phrase Extraction"
      ],
      "metadata": {
        "id": "-AUCIDVR0ZYb"
      }
    },
    {
      "cell_type": "code",
      "source": [
        "wiki.noun_phrases"
      ],
      "metadata": {
        "colab": {
          "base_uri": "https://localhost:8080/"
        },
        "id": "EhRajHk-wGUS",
        "outputId": "ca1de8a4-5b04-4e77-888b-a589932f44f6"
      },
      "execution_count": null,
      "outputs": [
        {
          "output_type": "execute_result",
          "data": {
            "text/plain": [
              "WordList(['python'])"
            ]
          },
          "metadata": {},
          "execution_count": 10
        }
      ]
    },
    {
      "cell_type": "markdown",
      "source": [
        "### Sentiment Analysis"
      ],
      "metadata": {
        "id": "KlIl2WVC0m3c"
      }
    },
    {
      "cell_type": "code",
      "source": [
        "wiki.sentiment"
      ],
      "metadata": {
        "colab": {
          "base_uri": "https://localhost:8080/"
        },
        "id": "jCPZJbDw0cjo",
        "outputId": "66fde21b-ce07-47d0-ee7d-335261e4ef75"
      },
      "execution_count": null,
      "outputs": [
        {
          "output_type": "execute_result",
          "data": {
            "text/plain": [
              "Sentiment(polarity=0.0, subjectivity=0.0)"
            ]
          },
          "metadata": {},
          "execution_count": 11
        }
      ]
    },
    {
      "cell_type": "code",
      "source": [
        "testimonial = TextBlob(\"Textblob is amazingly simple to use. What great fun!\")\n",
        "testimonial.sentiment"
      ],
      "metadata": {
        "colab": {
          "base_uri": "https://localhost:8080/"
        },
        "id": "PANFhG0e0uq3",
        "outputId": "4c9e6696-e751-4eb6-b803-38c14eac6e85"
      },
      "execution_count": null,
      "outputs": [
        {
          "output_type": "execute_result",
          "data": {
            "text/plain": [
              "Sentiment(polarity=0.39166666666666666, subjectivity=0.4357142857142857)"
            ]
          },
          "metadata": {},
          "execution_count": 12
        }
      ]
    },
    {
      "cell_type": "markdown",
      "source": [
        "### Tokenization"
      ],
      "metadata": {
        "id": "9Df7O6ntKgRe"
      }
    },
    {
      "cell_type": "code",
      "source": [
        "zen = TextBlob(\n",
        "    \"Beautiful is better than ugly. \"\n",
        "    \"Explicit is better than implicit. \"\n",
        "    \"Simple is better than complex.\"\n",
        ")"
      ],
      "metadata": {
        "id": "DPvKX3rhKXv2"
      },
      "execution_count": null,
      "outputs": []
    },
    {
      "cell_type": "code",
      "source": [
        "zen.words"
      ],
      "metadata": {
        "colab": {
          "base_uri": "https://localhost:8080/"
        },
        "id": "PnUQzdaHKd6L",
        "outputId": "831adb9c-11b8-46ef-9184-c1d99dcd9c15"
      },
      "execution_count": null,
      "outputs": [
        {
          "output_type": "execute_result",
          "data": {
            "text/plain": [
              "WordList(['Beautiful', 'is', 'better', 'than', 'ugly', 'Explicit', 'is', 'better', 'than', 'implicit', 'Simple', 'is', 'better', 'than', 'complex'])"
            ]
          },
          "metadata": {},
          "execution_count": 14
        }
      ]
    },
    {
      "cell_type": "code",
      "source": [
        "zen.sentences"
      ],
      "metadata": {
        "colab": {
          "base_uri": "https://localhost:8080/"
        },
        "id": "L6ubExriK-nq",
        "outputId": "1772df29-ec61-45f8-e3b6-80971ac7ac7f"
      },
      "execution_count": null,
      "outputs": [
        {
          "output_type": "execute_result",
          "data": {
            "text/plain": [
              "[Sentence(\"Beautiful is better than ugly.\"),\n",
              " Sentence(\"Explicit is better than implicit.\"),\n",
              " Sentence(\"Simple is better than complex.\")]"
            ]
          },
          "metadata": {},
          "execution_count": 16
        }
      ]
    },
    {
      "cell_type": "code",
      "source": [
        "for sentence in zen.sentences:\n",
        "    print(sentence.sentiment)"
      ],
      "metadata": {
        "colab": {
          "base_uri": "https://localhost:8080/"
        },
        "id": "FiGDc7PJLDJS",
        "outputId": "e12aa6af-6b04-482f-f670-6e9719894978"
      },
      "execution_count": null,
      "outputs": [
        {
          "output_type": "stream",
          "name": "stdout",
          "text": [
            "Sentiment(polarity=0.2166666666666667, subjectivity=0.8333333333333334)\n",
            "Sentiment(polarity=0.5, subjectivity=0.5)\n",
            "Sentiment(polarity=0.06666666666666667, subjectivity=0.41904761904761906)\n"
          ]
        }
      ]
    },
    {
      "cell_type": "markdown",
      "source": [
        "### Words Inflection and Lemmatization"
      ],
      "metadata": {
        "id": "u7Jk7CXFLlza"
      }
    },
    {
      "cell_type": "code",
      "source": [
        "sentence = TextBlob(\"Use 4 spaces per indentation level.\")\n",
        "sentence.words"
      ],
      "metadata": {
        "colab": {
          "base_uri": "https://localhost:8080/"
        },
        "id": "atYUE8FqLm8a",
        "outputId": "5e2bfc80-9e96-4e89-f745-8e2a2ed09af0"
      },
      "execution_count": null,
      "outputs": [
        {
          "output_type": "execute_result",
          "data": {
            "text/plain": [
              "WordList(['Use', '4', 'spaces', 'per', 'indentation', 'level'])"
            ]
          },
          "metadata": {},
          "execution_count": 18
        }
      ]
    },
    {
      "cell_type": "code",
      "source": [
        "sentence.words[4].singularize()"
      ],
      "metadata": {
        "colab": {
          "base_uri": "https://localhost:8080/",
          "height": 36
        },
        "id": "7ifJm-8HMfjR",
        "outputId": "9dad82ae-6075-4deb-e2ab-94936d0d1406"
      },
      "execution_count": null,
      "outputs": [
        {
          "output_type": "execute_result",
          "data": {
            "text/plain": [
              "'indentation'"
            ],
            "application/vnd.google.colaboratory.intrinsic+json": {
              "type": "string"
            }
          },
          "metadata": {},
          "execution_count": 19
        }
      ]
    },
    {
      "cell_type": "code",
      "source": [
        "sentence.words[4].pluralize()"
      ],
      "metadata": {
        "colab": {
          "base_uri": "https://localhost:8080/",
          "height": 36
        },
        "id": "wuP62HYkNEBU",
        "outputId": "c8c60129-7a9b-429b-c754-284948b695f6"
      },
      "execution_count": null,
      "outputs": [
        {
          "output_type": "execute_result",
          "data": {
            "text/plain": [
              "'indentations'"
            ],
            "application/vnd.google.colaboratory.intrinsic+json": {
              "type": "string"
            }
          },
          "metadata": {},
          "execution_count": 21
        }
      ]
    },
    {
      "cell_type": "code",
      "source": [
        "sentence.words[4].lemmatize()"
      ],
      "metadata": {
        "colab": {
          "base_uri": "https://localhost:8080/",
          "height": 36
        },
        "id": "QcIjkcjIQfTu",
        "outputId": "81f9e2f3-3eb6-4dd6-fae4-0d3c14f7c450"
      },
      "execution_count": null,
      "outputs": [
        {
          "output_type": "execute_result",
          "data": {
            "text/plain": [
              "'indentation'"
            ],
            "application/vnd.google.colaboratory.intrinsic+json": {
              "type": "string"
            }
          },
          "metadata": {},
          "execution_count": 23
        }
      ]
    },
    {
      "cell_type": "code",
      "source": [
        "from textblob import Word\n",
        "w = Word(\"octopi\")\n",
        "w.lemmatize()"
      ],
      "metadata": {
        "colab": {
          "base_uri": "https://localhost:8080/",
          "height": 36
        },
        "id": "Ktp6KfiKQbyX",
        "outputId": "67f10da5-c6f9-4587-edd3-b552bfe1da12"
      },
      "execution_count": null,
      "outputs": [
        {
          "output_type": "execute_result",
          "data": {
            "text/plain": [
              "'octopus'"
            ],
            "application/vnd.google.colaboratory.intrinsic+json": {
              "type": "string"
            }
          },
          "metadata": {},
          "execution_count": 24
        }
      ]
    },
    {
      "cell_type": "markdown",
      "source": [
        "### WordNet Integration"
      ],
      "metadata": {
        "id": "VTlMSILKQ_z4"
      }
    },
    {
      "cell_type": "code",
      "source": [
        "from textblob import Word\n",
        "from textblob.wordnet import VERB\n",
        "word = Word(\"octopus\")\n",
        "word.synsets\n",
        "\n",
        "Word(\"hack\").get_synsets(pos=VERB)"
      ],
      "metadata": {
        "colab": {
          "base_uri": "https://localhost:8080/"
        },
        "id": "hBrDzbj7QpGP",
        "outputId": "84f645f2-f3c1-449f-b07e-c8b173b0419b"
      },
      "execution_count": null,
      "outputs": [
        {
          "output_type": "execute_result",
          "data": {
            "text/plain": [
              "[Synset('chop.v.05'),\n",
              " Synset('hack.v.02'),\n",
              " Synset('hack.v.03'),\n",
              " Synset('hack.v.04'),\n",
              " Synset('hack.v.05'),\n",
              " Synset('hack.v.06'),\n",
              " Synset('hack.v.07'),\n",
              " Synset('hack.v.08')]"
            ]
          },
          "metadata": {},
          "execution_count": 25
        }
      ]
    },
    {
      "cell_type": "markdown",
      "source": [
        "### WordLists"
      ],
      "metadata": {
        "id": "qcnbWsSHUQPw"
      }
    },
    {
      "cell_type": "code",
      "source": [
        "animals = TextBlob(\"cat dog octopus\")\n",
        "animals.words\n",
        "\n",
        "animals.words.pluralize()\n"
      ],
      "metadata": {
        "colab": {
          "base_uri": "https://localhost:8080/"
        },
        "id": "I9BMCk23RIav",
        "outputId": "4489eb75-4552-47ae-fef4-c0be8848bb4b"
      },
      "execution_count": null,
      "outputs": [
        {
          "output_type": "execute_result",
          "data": {
            "text/plain": [
              "WordList(['cats', 'dogs', 'octopodes'])"
            ]
          },
          "metadata": {},
          "execution_count": 26
        }
      ]
    },
    {
      "cell_type": "markdown",
      "source": [
        "### Spelling CorrectionSpelling Correction"
      ],
      "metadata": {
        "id": "KkVW0pUiUYNe"
      }
    },
    {
      "cell_type": "code",
      "source": [
        "b = TextBlob(\"I havv goood speling!\")\n",
        "print(b.correct())\n"
      ],
      "metadata": {
        "colab": {
          "base_uri": "https://localhost:8080/"
        },
        "id": "0I1bpFXFUZCd",
        "outputId": "0bc4290e-994d-4f5b-c1a9-fee7ffbcbc2e"
      },
      "execution_count": null,
      "outputs": [
        {
          "output_type": "stream",
          "name": "stdout",
          "text": [
            "I have good spelling!\n"
          ]
        }
      ]
    },
    {
      "cell_type": "code",
      "source": [
        "# Word objects have a spellcheck() Word.spellcheck() method that returns a list of (word, confidence) tuples with spelling suggestions.\n",
        "\n",
        "from textblob import Word\n",
        "w = Word(\"falibility\")\n",
        "w.spellcheck()"
      ],
      "metadata": {
        "colab": {
          "base_uri": "https://localhost:8080/"
        },
        "id": "avvslgFwVK-m",
        "outputId": "a24e449f-69df-46f4-b2b7-e30a2bae3b2a"
      },
      "execution_count": null,
      "outputs": [
        {
          "output_type": "execute_result",
          "data": {
            "text/plain": [
              "[('fallibility', 1.0)]"
            ]
          },
          "metadata": {},
          "execution_count": 28
        }
      ]
    },
    {
      "cell_type": "markdown",
      "source": [
        "### Building a Text Classification System"
      ],
      "metadata": {
        "id": "tbbR83Nb_DJi"
      }
    },
    {
      "cell_type": "code",
      "source": [
        "train = [\n",
        "    (\"I love this sandwich.\", \"pos\"),\n",
        "    (\"this is an amazing place!\", \"pos\"),\n",
        "    (\"I feel very good about these beers.\", \"pos\"),\n",
        "    (\"this is my best work.\", \"pos\"),\n",
        "    (\"what an awesome view\", \"pos\"),\n",
        "    (\"I do not like this restaurant\", \"neg\"),\n",
        "    (\"I am tired of this stuff.\", \"neg\"),\n",
        "    (\"I can't deal with this\", \"neg\"),\n",
        "    (\"he is my sworn enemy!\", \"neg\"),\n",
        "    (\"my boss is horrible.\", \"neg\"),\n",
        "]\n",
        "test = [\n",
        "    (\"the beer was good.\", \"pos\"),\n",
        "    (\"I do not enjoy my job\", \"neg\"),\n",
        "    (\"I ain't feeling dandy today.\", \"neg\"),\n",
        "    (\"I feel amazing!\", \"pos\"),\n",
        "    (\"Gary is a friend of mine.\", \"pos\"),\n",
        "    (\"I can't believe I'm doing this.\", \"neg\"),\n",
        "]"
      ],
      "metadata": {
        "id": "icRAq8l5-rUg"
      },
      "execution_count": null,
      "outputs": []
    },
    {
      "cell_type": "code",
      "source": [
        "from textblob.classifiers import NaiveBayesClassifier\n",
        "cl = NaiveBayesClassifier(train)"
      ],
      "metadata": {
        "id": "JjM6EBvk-tWm"
      },
      "execution_count": null,
      "outputs": []
    },
    {
      "cell_type": "code",
      "source": [
        "from textblob import TextBlob\n",
        "blob = TextBlob(\"The beer is good. But the hangover is horrible.\", classifier=cl)\n",
        "blob.classify()"
      ],
      "metadata": {
        "colab": {
          "base_uri": "https://localhost:8080/",
          "height": 36
        },
        "id": "pHr7QiYn-Jaw",
        "outputId": "269b3e44-65fa-4079-8528-4ef12b631b33"
      },
      "execution_count": null,
      "outputs": [
        {
          "output_type": "execute_result",
          "data": {
            "text/plain": [
              "'pos'"
            ],
            "application/vnd.google.colaboratory.intrinsic+json": {
              "type": "string"
            }
          },
          "metadata": {},
          "execution_count": 8
        }
      ]
    },
    {
      "cell_type": "code",
      "source": [
        "for s in blob.sentences:\n",
        "    print(s)\n",
        "    print(s.classify())"
      ],
      "metadata": {
        "colab": {
          "base_uri": "https://localhost:8080/"
        },
        "id": "rQ27Pgax_y08",
        "outputId": "8a94864d-219a-4a3b-b0ba-30fcbb923d9d"
      },
      "execution_count": null,
      "outputs": [
        {
          "output_type": "stream",
          "name": "stdout",
          "text": [
            "The beer is good.\n",
            "pos\n",
            "But the hangover is horrible.\n",
            "neg\n"
          ]
        }
      ]
    },
    {
      "cell_type": "markdown",
      "source": [
        "### Evaluating Classifiers¶"
      ],
      "metadata": {
        "id": "Af-AGGyF_4Ak"
      }
    },
    {
      "cell_type": "code",
      "source": [
        "cl.accuracy(test)"
      ],
      "metadata": {
        "colab": {
          "base_uri": "https://localhost:8080/"
        },
        "id": "fzLSFUhZ_5MB",
        "outputId": "0c40e610-af46-44f0-bc10-cabbe2a4b11d"
      },
      "execution_count": null,
      "outputs": [
        {
          "output_type": "execute_result",
          "data": {
            "text/plain": [
              "0.8333333333333334"
            ]
          },
          "metadata": {},
          "execution_count": 10
        }
      ]
    }
  ]
}